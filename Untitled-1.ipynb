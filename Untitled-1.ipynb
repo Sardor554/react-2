{
 "cells": [
  {
   "cell_type": "code",
   "execution_count": null,
   "id": "618b3b3e",
   "metadata": {},
   "outputs": [],
   "source": []
  }
 ],
 "metadata": {
  "language_info": {
   "name": "python"
  }
 },
 "nbformat": 4,
 "nbformat_minor": 5
}
